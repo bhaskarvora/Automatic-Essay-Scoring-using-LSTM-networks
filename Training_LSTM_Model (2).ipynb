{
  "cells": [
    {
      "cell_type": "markdown",
      "metadata": {
        "id": "s8F0kq5JGu8d"
      },
      "source": [
        "## Importing the Data"
      ]
    },
    {
      "cell_type": "code",
      "execution_count": null,
      "metadata": {
        "colab": {
          "base_uri": "https://localhost:8080/"
        },
        "id": "6eUKr7TPHp5_",
        "outputId": "c4441105-b0e0-4931-cddc-9e0cb8ce02d3"
      },
      "outputs": [
        {
          "output_type": "stream",
          "name": "stdout",
          "text": [
            "Mounted at /content/drive\n"
          ]
        }
      ],
      "source": [
        "from google.colab import drive\n",
        "drive.mount('/content/drive')"
      ]
    },
    {
      "cell_type": "code",
      "execution_count": null,
      "metadata": {
        "id": "zvIsQQWZGu8f"
      },
      "outputs": [],
      "source": [
        "# Constants\n",
        "DATASET_DIR = './data/'\n",
        "GLOVE_DIR = './glove.6B/'\n",
        "SAVE_DIR = './'\n",
        "\n",
        "import os\n",
        "import pandas as pd\n",
        "\n",
        "X = pd.read_csv(os.path.join(DATASET_DIR, '/content/drive/MyDrive/Automated-Essay--Scoring-master/data/training_set_rel3.tsv'), sep='\\t', encoding='ISO-8859-1')\n",
        "y = X['domain1_score']\n",
        "X = X.dropna(axis=1)\n",
        "X = X.drop(columns=['rater1_domain1', 'rater2_domain1'])"
      ]
    },
    {
      "cell_type": "code",
      "execution_count": null,
      "metadata": {
        "colab": {
          "base_uri": "https://localhost:8080/",
          "height": 206
        },
        "id": "_PhmE2FuGu8h",
        "outputId": "df4f6b6b-b381-4d55-909e-432860dcede4"
      },
      "outputs": [
        {
          "output_type": "execute_result",
          "data": {
            "text/plain": [
              "   essay_id  essay_set                                              essay  \\\n",
              "0         1          1  Dear local newspaper, I think effects computer...   \n",
              "1         2          1  Dear @CAPS1 @CAPS2, I believe that using compu...   \n",
              "2         3          1  Dear, @CAPS1 @CAPS2 @CAPS3 More and more peopl...   \n",
              "3         4          1  Dear Local Newspaper, @CAPS1 I have found that...   \n",
              "4         5          1  Dear @LOCATION1, I know having computers has a...   \n",
              "\n",
              "   domain1_score  \n",
              "0              8  \n",
              "1              9  \n",
              "2              7  \n",
              "3             10  \n",
              "4              8  "
            ],
            "text/html": [
              "\n",
              "  <div id=\"df-7fa19567-e893-445d-92f2-8809e98cfc31\" class=\"colab-df-container\">\n",
              "    <div>\n",
              "<style scoped>\n",
              "    .dataframe tbody tr th:only-of-type {\n",
              "        vertical-align: middle;\n",
              "    }\n",
              "\n",
              "    .dataframe tbody tr th {\n",
              "        vertical-align: top;\n",
              "    }\n",
              "\n",
              "    .dataframe thead th {\n",
              "        text-align: right;\n",
              "    }\n",
              "</style>\n",
              "<table border=\"1\" class=\"dataframe\">\n",
              "  <thead>\n",
              "    <tr style=\"text-align: right;\">\n",
              "      <th></th>\n",
              "      <th>essay_id</th>\n",
              "      <th>essay_set</th>\n",
              "      <th>essay</th>\n",
              "      <th>domain1_score</th>\n",
              "    </tr>\n",
              "  </thead>\n",
              "  <tbody>\n",
              "    <tr>\n",
              "      <th>0</th>\n",
              "      <td>1</td>\n",
              "      <td>1</td>\n",
              "      <td>Dear local newspaper, I think effects computer...</td>\n",
              "      <td>8</td>\n",
              "    </tr>\n",
              "    <tr>\n",
              "      <th>1</th>\n",
              "      <td>2</td>\n",
              "      <td>1</td>\n",
              "      <td>Dear @CAPS1 @CAPS2, I believe that using compu...</td>\n",
              "      <td>9</td>\n",
              "    </tr>\n",
              "    <tr>\n",
              "      <th>2</th>\n",
              "      <td>3</td>\n",
              "      <td>1</td>\n",
              "      <td>Dear, @CAPS1 @CAPS2 @CAPS3 More and more peopl...</td>\n",
              "      <td>7</td>\n",
              "    </tr>\n",
              "    <tr>\n",
              "      <th>3</th>\n",
              "      <td>4</td>\n",
              "      <td>1</td>\n",
              "      <td>Dear Local Newspaper, @CAPS1 I have found that...</td>\n",
              "      <td>10</td>\n",
              "    </tr>\n",
              "    <tr>\n",
              "      <th>4</th>\n",
              "      <td>5</td>\n",
              "      <td>1</td>\n",
              "      <td>Dear @LOCATION1, I know having computers has a...</td>\n",
              "      <td>8</td>\n",
              "    </tr>\n",
              "  </tbody>\n",
              "</table>\n",
              "</div>\n",
              "    <div class=\"colab-df-buttons\">\n",
              "\n",
              "  <div class=\"colab-df-container\">\n",
              "    <button class=\"colab-df-convert\" onclick=\"convertToInteractive('df-7fa19567-e893-445d-92f2-8809e98cfc31')\"\n",
              "            title=\"Convert this dataframe to an interactive table.\"\n",
              "            style=\"display:none;\">\n",
              "\n",
              "  <svg xmlns=\"http://www.w3.org/2000/svg\" height=\"24px\" viewBox=\"0 -960 960 960\">\n",
              "    <path d=\"M120-120v-720h720v720H120Zm60-500h600v-160H180v160Zm220 220h160v-160H400v160Zm0 220h160v-160H400v160ZM180-400h160v-160H180v160Zm440 0h160v-160H620v160ZM180-180h160v-160H180v160Zm440 0h160v-160H620v160Z\"/>\n",
              "  </svg>\n",
              "    </button>\n",
              "\n",
              "  <style>\n",
              "    .colab-df-container {\n",
              "      display:flex;\n",
              "      gap: 12px;\n",
              "    }\n",
              "\n",
              "    .colab-df-convert {\n",
              "      background-color: #E8F0FE;\n",
              "      border: none;\n",
              "      border-radius: 50%;\n",
              "      cursor: pointer;\n",
              "      display: none;\n",
              "      fill: #1967D2;\n",
              "      height: 32px;\n",
              "      padding: 0 0 0 0;\n",
              "      width: 32px;\n",
              "    }\n",
              "\n",
              "    .colab-df-convert:hover {\n",
              "      background-color: #E2EBFA;\n",
              "      box-shadow: 0px 1px 2px rgba(60, 64, 67, 0.3), 0px 1px 3px 1px rgba(60, 64, 67, 0.15);\n",
              "      fill: #174EA6;\n",
              "    }\n",
              "\n",
              "    .colab-df-buttons div {\n",
              "      margin-bottom: 4px;\n",
              "    }\n",
              "\n",
              "    [theme=dark] .colab-df-convert {\n",
              "      background-color: #3B4455;\n",
              "      fill: #D2E3FC;\n",
              "    }\n",
              "\n",
              "    [theme=dark] .colab-df-convert:hover {\n",
              "      background-color: #434B5C;\n",
              "      box-shadow: 0px 1px 3px 1px rgba(0, 0, 0, 0.15);\n",
              "      filter: drop-shadow(0px 1px 2px rgba(0, 0, 0, 0.3));\n",
              "      fill: #FFFFFF;\n",
              "    }\n",
              "  </style>\n",
              "\n",
              "    <script>\n",
              "      const buttonEl =\n",
              "        document.querySelector('#df-7fa19567-e893-445d-92f2-8809e98cfc31 button.colab-df-convert');\n",
              "      buttonEl.style.display =\n",
              "        google.colab.kernel.accessAllowed ? 'block' : 'none';\n",
              "\n",
              "      async function convertToInteractive(key) {\n",
              "        const element = document.querySelector('#df-7fa19567-e893-445d-92f2-8809e98cfc31');\n",
              "        const dataTable =\n",
              "          await google.colab.kernel.invokeFunction('convertToInteractive',\n",
              "                                                    [key], {});\n",
              "        if (!dataTable) return;\n",
              "\n",
              "        const docLinkHtml = 'Like what you see? Visit the ' +\n",
              "          '<a target=\"_blank\" href=https://colab.research.google.com/notebooks/data_table.ipynb>data table notebook</a>'\n",
              "          + ' to learn more about interactive tables.';\n",
              "        element.innerHTML = '';\n",
              "        dataTable['output_type'] = 'display_data';\n",
              "        await google.colab.output.renderOutput(dataTable, element);\n",
              "        const docLink = document.createElement('div');\n",
              "        docLink.innerHTML = docLinkHtml;\n",
              "        element.appendChild(docLink);\n",
              "      }\n",
              "    </script>\n",
              "  </div>\n",
              "\n",
              "\n",
              "<div id=\"df-57d69660-c90e-4ffe-b257-6b295bfcc0b6\">\n",
              "  <button class=\"colab-df-quickchart\" onclick=\"quickchart('df-57d69660-c90e-4ffe-b257-6b295bfcc0b6')\"\n",
              "            title=\"Suggest charts\"\n",
              "            style=\"display:none;\">\n",
              "\n",
              "<svg xmlns=\"http://www.w3.org/2000/svg\" height=\"24px\"viewBox=\"0 0 24 24\"\n",
              "     width=\"24px\">\n",
              "    <g>\n",
              "        <path d=\"M19 3H5c-1.1 0-2 .9-2 2v14c0 1.1.9 2 2 2h14c1.1 0 2-.9 2-2V5c0-1.1-.9-2-2-2zM9 17H7v-7h2v7zm4 0h-2V7h2v10zm4 0h-2v-4h2v4z\"/>\n",
              "    </g>\n",
              "</svg>\n",
              "  </button>\n",
              "\n",
              "<style>\n",
              "  .colab-df-quickchart {\n",
              "      --bg-color: #E8F0FE;\n",
              "      --fill-color: #1967D2;\n",
              "      --hover-bg-color: #E2EBFA;\n",
              "      --hover-fill-color: #174EA6;\n",
              "      --disabled-fill-color: #AAA;\n",
              "      --disabled-bg-color: #DDD;\n",
              "  }\n",
              "\n",
              "  [theme=dark] .colab-df-quickchart {\n",
              "      --bg-color: #3B4455;\n",
              "      --fill-color: #D2E3FC;\n",
              "      --hover-bg-color: #434B5C;\n",
              "      --hover-fill-color: #FFFFFF;\n",
              "      --disabled-bg-color: #3B4455;\n",
              "      --disabled-fill-color: #666;\n",
              "  }\n",
              "\n",
              "  .colab-df-quickchart {\n",
              "    background-color: var(--bg-color);\n",
              "    border: none;\n",
              "    border-radius: 50%;\n",
              "    cursor: pointer;\n",
              "    display: none;\n",
              "    fill: var(--fill-color);\n",
              "    height: 32px;\n",
              "    padding: 0;\n",
              "    width: 32px;\n",
              "  }\n",
              "\n",
              "  .colab-df-quickchart:hover {\n",
              "    background-color: var(--hover-bg-color);\n",
              "    box-shadow: 0 1px 2px rgba(60, 64, 67, 0.3), 0 1px 3px 1px rgba(60, 64, 67, 0.15);\n",
              "    fill: var(--button-hover-fill-color);\n",
              "  }\n",
              "\n",
              "  .colab-df-quickchart-complete:disabled,\n",
              "  .colab-df-quickchart-complete:disabled:hover {\n",
              "    background-color: var(--disabled-bg-color);\n",
              "    fill: var(--disabled-fill-color);\n",
              "    box-shadow: none;\n",
              "  }\n",
              "\n",
              "  .colab-df-spinner {\n",
              "    border: 2px solid var(--fill-color);\n",
              "    border-color: transparent;\n",
              "    border-bottom-color: var(--fill-color);\n",
              "    animation:\n",
              "      spin 1s steps(1) infinite;\n",
              "  }\n",
              "\n",
              "  @keyframes spin {\n",
              "    0% {\n",
              "      border-color: transparent;\n",
              "      border-bottom-color: var(--fill-color);\n",
              "      border-left-color: var(--fill-color);\n",
              "    }\n",
              "    20% {\n",
              "      border-color: transparent;\n",
              "      border-left-color: var(--fill-color);\n",
              "      border-top-color: var(--fill-color);\n",
              "    }\n",
              "    30% {\n",
              "      border-color: transparent;\n",
              "      border-left-color: var(--fill-color);\n",
              "      border-top-color: var(--fill-color);\n",
              "      border-right-color: var(--fill-color);\n",
              "    }\n",
              "    40% {\n",
              "      border-color: transparent;\n",
              "      border-right-color: var(--fill-color);\n",
              "      border-top-color: var(--fill-color);\n",
              "    }\n",
              "    60% {\n",
              "      border-color: transparent;\n",
              "      border-right-color: var(--fill-color);\n",
              "    }\n",
              "    80% {\n",
              "      border-color: transparent;\n",
              "      border-right-color: var(--fill-color);\n",
              "      border-bottom-color: var(--fill-color);\n",
              "    }\n",
              "    90% {\n",
              "      border-color: transparent;\n",
              "      border-bottom-color: var(--fill-color);\n",
              "    }\n",
              "  }\n",
              "</style>\n",
              "\n",
              "  <script>\n",
              "    async function quickchart(key) {\n",
              "      const quickchartButtonEl =\n",
              "        document.querySelector('#' + key + ' button');\n",
              "      quickchartButtonEl.disabled = true;  // To prevent multiple clicks.\n",
              "      quickchartButtonEl.classList.add('colab-df-spinner');\n",
              "      try {\n",
              "        const charts = await google.colab.kernel.invokeFunction(\n",
              "            'suggestCharts', [key], {});\n",
              "      } catch (error) {\n",
              "        console.error('Error during call to suggestCharts:', error);\n",
              "      }\n",
              "      quickchartButtonEl.classList.remove('colab-df-spinner');\n",
              "      quickchartButtonEl.classList.add('colab-df-quickchart-complete');\n",
              "    }\n",
              "    (() => {\n",
              "      let quickchartButtonEl =\n",
              "        document.querySelector('#df-57d69660-c90e-4ffe-b257-6b295bfcc0b6 button');\n",
              "      quickchartButtonEl.style.display =\n",
              "        google.colab.kernel.accessAllowed ? 'block' : 'none';\n",
              "    })();\n",
              "  </script>\n",
              "</div>\n",
              "\n",
              "    </div>\n",
              "  </div>\n"
            ],
            "application/vnd.google.colaboratory.intrinsic+json": {
              "type": "dataframe",
              "variable_name": "X",
              "summary": "{\n  \"name\": \"X\",\n  \"rows\": 12976,\n  \"fields\": [\n    {\n      \"column\": \"essay_id\",\n      \"properties\": {\n        \"dtype\": \"number\",\n        \"std\": 6309,\n        \"min\": 1,\n        \"max\": 21633,\n        \"num_unique_values\": 12976,\n        \"samples\": [\n          9908,\n          9872,\n          305\n        ],\n        \"semantic_type\": \"\",\n        \"description\": \"\"\n      }\n    },\n    {\n      \"column\": \"essay_set\",\n      \"properties\": {\n        \"dtype\": \"number\",\n        \"std\": 2,\n        \"min\": 1,\n        \"max\": 8,\n        \"num_unique_values\": 8,\n        \"samples\": [\n          2,\n          6,\n          1\n        ],\n        \"semantic_type\": \"\",\n        \"description\": \"\"\n      }\n    },\n    {\n      \"column\": \"essay\",\n      \"properties\": {\n        \"dtype\": \"string\",\n        \"num_unique_values\": 12972,\n        \"samples\": [\n          \"The features of the setting affect the cyclist in many ways. He is riding his bike along the road and encounters a dilema.\\u0094\\u0085 @CAPS1 weeds crossed my path and a ridiculously large snake. Blocked the\\u0085 pavement in front of me.\\u0094 He had to stop and into by the snake which showed him down and freaked him out. He had problems with thirst already and had to deal with a snake that \\u0093really did look like a diamondback.\\u0094 @CAPS2, he sees a building up ahead and discovers that it\\u0092s a walrus Grape Juice factory. He thought that is might have some water but realized it was abandoned. Relating to his thirst, before he left he grabbed some pebbles.\\u0094 I\\u0092d read once that sucking on stones helps takes your mind off thirst by allowing what spit you have left to circulate.\\u0094 * @CAPS3 he came across a fishing camp and received instructions on how to go on. This affected him because he @CAPS3 got to a secure place and got proper directions and will learn from his mistake of listening to the older men at the beginning. The features of \",\n          \"The author concludes the story with this paragraph because the cold was brufield or the  author never  wanted to be around while the cold was in sesion. At the  time it was realy cold\",\n          \"Computers, a very much talked about subject. Did you know that @PERCENT1 of homes in @LOCATION1 own at least one computer. And that goes for about @PERCENT2 in @LOCATION2. Some people don't like that this is true, but on the other hand some people do. I have a computer, it can do so much, for example it can help me with writing, I can play games on it and socialize with social networking sites and \\\"I.M.'s\\\", it can even help me order a product form a website like @ORGANIZATION1, @LOCATION3, or @LOCATION4. Like I said, I have a computer and I can use it to help me write. At school in english, I would use my computer to help me with a writing prompt. I also use it to write conclusions for science labs. There are a lot of other kids that do this as well, it really is very helpful. That is only one of the reasons I think computers are beneficial to society. Another reason I think computers are beneficial to society is because you can play games on them, like \\\"world of warcraft\\\", \\\"@CAPS1 @CAPS2 @NUM1\\\", or classics like \\\"@CAPS3 @CAPS4 @CAPS5\\\". There are millions of people that play games on the computer. Also you can socialize with social networking sites, like @CAPS6 and twitter, and also because you can \\\"I.M.\\\" your friends. I.M. stands for @CAPS7 messaging, and it is kind of like email except it is just about instantaneous, and so you and friend can have a conversation over the computer. Also there is video chatting, where it is kind of like a phone except you can see the person you're talking to and it is over the computer, so it is almost like you and the person you are videochatting with are meeting face to face, but your not. A third reason I feel that computers are beneficial to society is because you can order a product over the internet form shop websites. For example, I got my @CAPS8 from @LOCATION3, and also the bulb for a @CAPS9 in my house is wearing out, so my dad is going to buy a @LOCATION1 bulb on @ORGANIZATION1. It is things like this that make life that much easier for the @CAPS10 @PERSON1, because this way these people don't have to drive to the store to buy something, that is, if they can wait a week or two for the product to arrive. These are the kinds of things that make me feel that computers are beneficial to society. I know they might not be the best reasons, but they are quite important to me. Being able to type essays, play games and socialize, and order products form websites is just amazing. These are some of the reasons that I and others love computers. But I have a question for you, why do you like or dislike computers?\"\n        ],\n        \"semantic_type\": \"\",\n        \"description\": \"\"\n      }\n    },\n    {\n      \"column\": \"domain1_score\",\n      \"properties\": {\n        \"dtype\": \"number\",\n        \"std\": 8,\n        \"min\": 0,\n        \"max\": 60,\n        \"num_unique_values\": 53,\n        \"samples\": [\n          19,\n          32,\n          28\n        ],\n        \"semantic_type\": \"\",\n        \"description\": \"\"\n      }\n    }\n  ]\n}"
            }
          },
          "metadata": {},
          "execution_count": 3
        }
      ],
      "source": [
        "X.head()"
      ]
    },
    {
      "cell_type": "markdown",
      "metadata": {
        "id": "PxiY4xFHGu8i"
      },
      "source": [
        "Minimum and Maximum Scores for each essay set."
      ]
    },
    {
      "cell_type": "code",
      "execution_count": null,
      "metadata": {
        "id": "X_IVTDxxGu8i"
      },
      "outputs": [],
      "source": [
        "minimum_scores = [-1, 2, 1, 0, 0, 0, 0, 0, 0]\n",
        "maximum_scores = [-1, 12, 6, 3, 3, 4, 4, 30, 60]"
      ]
    },
    {
      "cell_type": "markdown",
      "metadata": {
        "id": "eHVtbBWDGu8j"
      },
      "source": [
        "## Preprocessing the Data"
      ]
    },
    {
      "cell_type": "markdown",
      "metadata": {
        "id": "cEJzgOUpGu8j"
      },
      "source": [
        "We will preprocess all essays and convert them to feature vectors so that they can be fed into the RNN.\n",
        "\n",
        "These are all helper functions used to clean the essays."
      ]
    },
    {
      "cell_type": "code",
      "source": [],
      "metadata": {
        "id": "147urAKiz0qx"
      },
      "execution_count": null,
      "outputs": []
    },
    {
      "cell_type": "code",
      "execution_count": null,
      "metadata": {
        "id": "Bn4vurZqGu8j"
      },
      "outputs": [],
      "source": [
        "import numpy as np\n",
        "import nltk\n",
        "import re\n",
        "from nltk.corpus import stopwords\n",
        "from gensim.models import Word2Vec\n",
        "\n",
        "def essay_to_wordlist(essay_v, remove_stopwords):\n",
        "    \"\"\"Remove the tagged labels and word tokenize the sentence.\"\"\"\n",
        "    essay_v = re.sub(\"[^a-zA-Z]\", \" \", essay_v)\n",
        "    words = essay_v.lower().split()\n",
        "    if remove_stopwords:\n",
        "        stops = set(stopwords.words(\"english\"))\n",
        "        words = [w for w in words if not w in stops]\n",
        "    return (words)\n",
        "\n",
        "def essay_to_sentences(essay_v, remove_stopwords):\n",
        "    \"\"\"Sentence tokenize the essay and call essay_to_wordlist() for word tokenization.\"\"\"\n",
        "    tokenizer = nltk.data.load('tokenizers/punkt/english.pickle')\n",
        "    raw_sentences = tokenizer.tokenize(essay_v.strip())\n",
        "    sentences = []\n",
        "    for raw_sentence in raw_sentences:\n",
        "        if len(raw_sentence) > 0:\n",
        "            sentences.append(essay_to_wordlist(raw_sentence, remove_stopwords))\n",
        "    return sentences\n",
        "\n",
        "\n",
        "def makeFeatureVec(words, model, num_features):\n",
        "    \"\"\"\n",
        "    Function to average all of the word vectors in a given paragraph\n",
        "    \"\"\"\n",
        "    featureVec = np.zeros((num_features,), dtype=\"float32\")\n",
        "    num_words = 0.\n",
        "    for word in words:\n",
        "        if word in model:\n",
        "            num_words += 1\n",
        "            featureVec = np.add(featureVec, model[word])\n",
        "    if num_words != 0:\n",
        "        featureVec = np.divide(featureVec, num_words)\n",
        "    return featureVec\n",
        "\n",
        "\n",
        "def getAvgFeatureVecs(clean_train_essays, model, num_features):\n",
        "    \"\"\"\n",
        "    Main function to generate the word vectors for word2vec model.\n",
        "    \"\"\"\n",
        "    essayFeatureVecs = []\n",
        "    for essay in clean_train_essays:\n",
        "        essayFeatureVecs.append(makeFeatureVec(essay, model, num_features))  # Pass 'model' directly\n",
        "    return np.array(essayFeatureVecs)\n",
        "\n",
        "\n"
      ]
    },
    {
      "cell_type": "code",
      "execution_count": null,
      "metadata": {
        "colab": {
          "base_uri": "https://localhost:8080/"
        },
        "id": "36xaZBoOGu8j",
        "outputId": "2176c389-7a65-4768-9029-37d1c4c72c66"
      },
      "outputs": [
        {
          "output_type": "stream",
          "name": "stderr",
          "text": [
            "[nltk_data] Downloading package punkt to /root/nltk_data...\n",
            "[nltk_data]   Unzipping tokenizers/punkt.zip.\n",
            "[nltk_data] Downloading package stopwords to /root/nltk_data...\n",
            "[nltk_data]   Unzipping corpora/stopwords.zip.\n"
          ]
        },
        {
          "output_type": "execute_result",
          "data": {
            "text/plain": [
              "True"
            ]
          },
          "metadata": {},
          "execution_count": 6
        }
      ],
      "source": [
        "import nltk\n",
        "nltk.download('punkt')\n",
        "\n",
        "nltk.download('stopwords')"
      ]
    },
    {
      "cell_type": "markdown",
      "metadata": {
        "id": "uMlZqokiGu8k"
      },
      "source": [
        "## Defining the model"
      ]
    },
    {
      "cell_type": "markdown",
      "metadata": {
        "id": "AA5dCnujGu8k"
      },
      "source": [
        "Here we define a 2-Layer LSTM Model.\n",
        "\n",
        "Note that instead of using sigmoid activation in the output layer we will use\n",
        "Relu since we are not normalising training labels."
      ]
    },
    {
      "cell_type": "code",
      "execution_count": null,
      "metadata": {
        "id": "FmFh6ohBGu8k"
      },
      "outputs": [],
      "source": [
        "from keras.layers import Embedding, LSTM, Dense, Dropout, Lambda, Flatten\n",
        "from keras.models import Sequential, load_model, model_from_config\n",
        "import keras.backend as K\n",
        "\n",
        "def get_model():\n",
        "    \"\"\"Define the model.\"\"\"\n",
        "    model = Sequential()\n",
        "    model.add(LSTM(300, dropout=0.4, recurrent_dropout=0.4, input_shape=[1, 300], return_sequences=True))\n",
        "    model.add(LSTM(64, recurrent_dropout=0.4))\n",
        "    model.add(Dropout(0.5))\n",
        "    model.add(Dense(1, activation='relu'))\n",
        "\n",
        "    model.compile(loss='mean_squared_error', optimizer='rmsprop', metrics=['mae'])\n",
        "    model.summary()\n",
        "\n",
        "    return model"
      ]
    },
    {
      "cell_type": "code",
      "execution_count": null,
      "metadata": {
        "colab": {
          "base_uri": "https://localhost:8080/"
        },
        "id": "2P6LyDy4L4hX",
        "outputId": "e3172564-c9c5-4ff9-c916-b7fbd6b3cb64"
      },
      "outputs": [
        {
          "output_type": "stream",
          "name": "stdout",
          "text": [
            "Requirement already satisfied: gensim in /usr/local/lib/python3.10/dist-packages (4.3.2)\n",
            "Requirement already satisfied: numpy>=1.18.5 in /usr/local/lib/python3.10/dist-packages (from gensim) (1.25.2)\n",
            "Requirement already satisfied: scipy>=1.7.0 in /usr/local/lib/python3.10/dist-packages (from gensim) (1.11.4)\n",
            "Requirement already satisfied: smart-open>=1.8.1 in /usr/local/lib/python3.10/dist-packages (from gensim) (6.4.0)\n"
          ]
        }
      ],
      "source": [
        "pip install --upgrade gensim"
      ]
    },
    {
      "cell_type": "code",
      "execution_count": null,
      "metadata": {
        "id": "yn9NUHN8L-Dc"
      },
      "outputs": [],
      "source": [
        "from gensim.models import Word2Vec"
      ]
    },
    {
      "cell_type": "markdown",
      "metadata": {
        "id": "eH2loIuLGu8l"
      },
      "source": [
        "## Training Phase"
      ]
    },
    {
      "cell_type": "markdown",
      "metadata": {
        "id": "gD782GIIGu8l"
      },
      "source": [
        "Now we train the model on the dataset.\n",
        "\n",
        "We will use 5-Fold Cross Validation and measure the Quadratic Weighted Kappa for each fold.\n",
        "We will then calculate Average Kappa for all the folds."
      ]
    },
    {
      "cell_type": "code",
      "execution_count": null,
      "metadata": {
        "colab": {
          "base_uri": "https://localhost:8080/"
        },
        "id": "e9RcO5RlGu8l",
        "outputId": "3cacebe5-4086-44c4-8ee4-691c2d8a2e81"
      },
      "outputs": [
        {
          "output_type": "stream",
          "name": "stdout",
          "text": [
            "\n",
            "-------- Fold 1 --------\n",
            "\n",
            "[==================================================] 100.0% 1662.8/1662.8MB downloaded\n",
            "Model: \"sequential\"\n",
            "_________________________________________________________________\n",
            " Layer (type)                Output Shape              Param #   \n",
            "=================================================================\n",
            " lstm (LSTM)                 (None, 1, 300)            721200    \n",
            "                                                                 \n",
            " lstm_1 (LSTM)               (None, 64)                93440     \n",
            "                                                                 \n",
            " dropout (Dropout)           (None, 64)                0         \n",
            "                                                                 \n",
            " dense (Dense)               (None, 1)                 65        \n",
            "                                                                 \n",
            "=================================================================\n",
            "Total params: 814705 (3.11 MB)\n",
            "Trainable params: 814705 (3.11 MB)\n",
            "Non-trainable params: 0 (0.00 Byte)\n",
            "_________________________________________________________________\n",
            "Epoch 1/5\n",
            "163/163 [==============================] - 18s 46ms/step - loss: 68.8577 - mae: 4.7243\n",
            "Epoch 2/5\n",
            "163/163 [==============================] - 7s 45ms/step - loss: 41.7381 - mae: 3.6993\n",
            "Epoch 3/5\n",
            "163/163 [==============================] - 8s 51ms/step - loss: 31.9426 - mae: 3.2985\n",
            "Epoch 4/5\n",
            "163/163 [==============================] - 8s 47ms/step - loss: 26.5655 - mae: 2.9421\n",
            "Epoch 5/5\n",
            "163/163 [==============================] - 8s 50ms/step - loss: 23.6612 - mae: 2.7837\n",
            "82/82 [==============================] - 2s 12ms/step\n",
            "Kappa Score: 0.8599223183497042\n",
            "\n",
            "-------- Fold 2 --------\n",
            "\n",
            "Model: \"sequential_1\"\n",
            "_________________________________________________________________\n",
            " Layer (type)                Output Shape              Param #   \n",
            "=================================================================\n",
            " lstm_2 (LSTM)               (None, 1, 300)            721200    \n",
            "                                                                 \n",
            " lstm_3 (LSTM)               (None, 64)                93440     \n",
            "                                                                 \n",
            " dropout_1 (Dropout)         (None, 64)                0         \n",
            "                                                                 \n",
            " dense_1 (Dense)             (None, 1)                 65        \n",
            "                                                                 \n",
            "=================================================================\n",
            "Total params: 814705 (3.11 MB)\n",
            "Trainable params: 814705 (3.11 MB)\n",
            "Non-trainable params: 0 (0.00 Byte)\n",
            "_________________________________________________________________\n",
            "Epoch 1/5\n",
            "163/163 [==============================] - 19s 50ms/step - loss: 65.9827 - mae: 4.6280\n",
            "Epoch 2/5\n",
            "163/163 [==============================] - 8s 49ms/step - loss: 38.9814 - mae: 3.6671\n",
            "Epoch 3/5\n",
            "163/163 [==============================] - 8s 51ms/step - loss: 30.6203 - mae: 3.2946\n",
            "Epoch 4/5\n",
            "163/163 [==============================] - 8s 51ms/step - loss: 25.5235 - mae: 2.9262\n",
            "Epoch 5/5\n",
            "163/163 [==============================] - 7s 42ms/step - loss: 23.4965 - mae: 2.8071\n",
            "82/82 [==============================] - 2s 10ms/step\n",
            "Kappa Score: 0.8612883714105635\n",
            "\n",
            "-------- Fold 3 --------\n",
            "\n",
            "Model: \"sequential_2\"\n",
            "_________________________________________________________________\n",
            " Layer (type)                Output Shape              Param #   \n",
            "=================================================================\n",
            " lstm_4 (LSTM)               (None, 1, 300)            721200    \n",
            "                                                                 \n",
            " lstm_5 (LSTM)               (None, 64)                93440     \n",
            "                                                                 \n",
            " dropout_2 (Dropout)         (None, 64)                0         \n",
            "                                                                 \n",
            " dense_2 (Dense)             (None, 1)                 65        \n",
            "                                                                 \n",
            "=================================================================\n",
            "Total params: 814705 (3.11 MB)\n",
            "Trainable params: 814705 (3.11 MB)\n",
            "Non-trainable params: 0 (0.00 Byte)\n",
            "_________________________________________________________________\n",
            "Epoch 1/5\n",
            "163/163 [==============================] - 13s 27ms/step - loss: 64.9004 - mae: 4.6207\n",
            "Epoch 2/5\n",
            "163/163 [==============================] - 10s 64ms/step - loss: 38.9092 - mae: 3.6641\n",
            "Epoch 3/5\n",
            "163/163 [==============================] - 5s 30ms/step - loss: 31.0187 - mae: 3.2924\n",
            "Epoch 4/5\n",
            "163/163 [==============================] - 5s 32ms/step - loss: 26.8687 - mae: 3.0070\n",
            "Epoch 5/5\n",
            "163/163 [==============================] - 6s 37ms/step - loss: 24.0171 - mae: 2.8300\n",
            "82/82 [==============================] - 1s 7ms/step\n",
            "Kappa Score: 0.8603115799735178\n",
            "\n",
            "-------- Fold 4 --------\n",
            "\n",
            "Model: \"sequential_3\"\n",
            "_________________________________________________________________\n",
            " Layer (type)                Output Shape              Param #   \n",
            "=================================================================\n",
            " lstm_6 (LSTM)               (None, 1, 300)            721200    \n",
            "                                                                 \n",
            " lstm_7 (LSTM)               (None, 64)                93440     \n",
            "                                                                 \n",
            " dropout_3 (Dropout)         (None, 64)                0         \n",
            "                                                                 \n",
            " dense_3 (Dense)             (None, 1)                 65        \n",
            "                                                                 \n",
            "=================================================================\n",
            "Total params: 814705 (3.11 MB)\n",
            "Trainable params: 814705 (3.11 MB)\n",
            "Non-trainable params: 0 (0.00 Byte)\n",
            "_________________________________________________________________\n",
            "Epoch 1/5\n",
            "163/163 [==============================] - 10s 30ms/step - loss: 66.4851 - mae: 4.6213\n",
            "Epoch 2/5\n",
            "163/163 [==============================] - 7s 43ms/step - loss: 39.6617 - mae: 3.6551\n",
            "Epoch 3/5\n",
            "163/163 [==============================] - 5s 29ms/step - loss: 31.0209 - mae: 3.3106\n",
            "Epoch 4/5\n",
            "163/163 [==============================] - 6s 36ms/step - loss: 26.1784 - mae: 2.9414\n",
            "Epoch 5/5\n",
            "163/163 [==============================] - 5s 30ms/step - loss: 23.8389 - mae: 2.8023\n",
            "82/82 [==============================] - 1s 7ms/step\n",
            "Kappa Score: 0.8723064445186856\n",
            "\n",
            "-------- Fold 5 --------\n",
            "\n",
            "Model: \"sequential_4\"\n",
            "_________________________________________________________________\n",
            " Layer (type)                Output Shape              Param #   \n",
            "=================================================================\n",
            " lstm_8 (LSTM)               (None, 1, 300)            721200    \n",
            "                                                                 \n",
            " lstm_9 (LSTM)               (None, 64)                93440     \n",
            "                                                                 \n",
            " dropout_4 (Dropout)         (None, 64)                0         \n",
            "                                                                 \n",
            " dense_4 (Dense)             (None, 1)                 65        \n",
            "                                                                 \n",
            "=================================================================\n",
            "Total params: 814705 (3.11 MB)\n",
            "Trainable params: 814705 (3.11 MB)\n",
            "Non-trainable params: 0 (0.00 Byte)\n",
            "_________________________________________________________________\n",
            "Epoch 1/5\n",
            "163/163 [==============================] - 12s 28ms/step - loss: 67.5120 - mae: 4.6618\n",
            "Epoch 2/5\n",
            "163/163 [==============================] - 5s 30ms/step - loss: 40.6877 - mae: 3.7241\n",
            "Epoch 3/5\n",
            "163/163 [==============================] - 6s 37ms/step - loss: 31.5742 - mae: 3.3327\n",
            "Epoch 4/5\n",
            "163/163 [==============================] - 5s 29ms/step - loss: 26.6546 - mae: 2.9826\n",
            "Epoch 5/5\n",
            "163/163 [==============================] - 6s 36ms/step - loss: 23.8612 - mae: 2.8245\n",
            "82/82 [==============================] - 1s 9ms/step\n",
            "Kappa Score: 0.8699648689918389\n"
          ]
        },
        {
          "output_type": "stream",
          "name": "stderr",
          "text": [
            "/usr/local/lib/python3.10/dist-packages/keras/src/engine/training.py:3103: UserWarning: You are saving your model as an HDF5 file via `model.save()`. This file format is considered legacy. We recommend using instead the native Keras format, e.g. `model.save('my_model.keras')`.\n",
            "  saving_api.save_model(\n"
          ]
        }
      ],
      "source": [
        "from sklearn.model_selection import KFold\n",
        "from sklearn.linear_model import LinearRegression\n",
        "from sklearn.metrics import cohen_kappa_score\n",
        "import gensim.downloader as api  # Import for pre-trained Word2Vec model (optional)\n",
        "\n",
        "# Define num_features\n",
        "num_features = 300  # Assuming you're using a 300-dimensional Word2Vec model\n",
        "\n",
        "cv = KFold(n_splits=5, shuffle=True)\n",
        "results = []\n",
        "y_pred_list = []\n",
        "\n",
        "count = 1\n",
        "for traincv, testcv in cv.split(X):\n",
        "    print(\"\\n-------- Fold {} --------\\n\".format(count))\n",
        "    X_test, X_train, y_test, y_train = X.iloc[testcv], X.iloc[traincv], y.iloc[testcv], y.iloc[traincv]\n",
        "\n",
        "    train_essays = X_train['essay']\n",
        "    test_essays = X_test['essay']\n",
        "\n",
        "    sentences = []\n",
        "\n",
        "    for essay in train_essays:\n",
        "        # Obtaining all sentences from the training essays.\n",
        "        sentences += essay_to_sentences(essay, remove_stopwords=True)\n",
        "\n",
        "\n",
        "\n",
        "    model = api.load(\"word2vec-google-news-300\")  # Example: Load Google News Word2Vec (300 dimensions)\n",
        "\n",
        "    clean_train_essays = []\n",
        "\n",
        "    # Generate training and testing data word vectors.\n",
        "    for essay_v in train_essays:\n",
        "        clean_train_essays.append(essay_to_wordlist(essay_v, remove_stopwords=True))\n",
        "\n",
        "    trainDataVecs = getAvgFeatureVecs(clean_train_essays, model, num_features)\n",
        "\n",
        "    clean_test_essays = []\n",
        "    for essay_v in test_essays:\n",
        "        clean_test_essays.append(essay_to_wordlist(essay_v, remove_stopwords=True))\n",
        "\n",
        "    testDataVecs = getAvgFeatureVecs(clean_test_essays, model, num_features)\n",
        "\n",
        "    trainDataVecs = np.array(trainDataVecs)\n",
        "    testDataVecs = np.array(testDataVecs)\n",
        "\n",
        "    # Reshaping train and test vectors to 3 dimensions. (1 represents one timestep)\n",
        "    trainDataVecs = np.reshape(trainDataVecs, (trainDataVecs.shape[0], 1, trainDataVecs.shape[1]))\n",
        "    testDataVecs = np.reshape(testDataVecs, (testDataVecs.shape[0], 1, testDataVecs.shape[1]))\n",
        "\n",
        "    lstm_model = get_model()\n",
        "    lstm_model.fit(trainDataVecs, y_train, batch_size=64, epochs=5)\n",
        "    # lstm_model.load_weights('./model_weights/final_lstm.h5')  # Commented out for now\n",
        "\n",
        "    y_pred = lstm_model.predict(testDataVecs)\n",
        "\n",
        "    # Save any one of the 5 models.\n",
        "    if count == 5:\n",
        "        lstm_model.save('./model_weights/final_lstm.h5')\n",
        "\n",
        "    # Round y_pred to the nearest integer.\n",
        "    y_pred = np.around(y_pred)\n",
        "\n",
        "    # Evaluate the model on the evaluation metric. \"Quadratic mean averaged Kappa\"\n",
        "    result = cohen_kappa_score(y_test.values, y_pred, weights='quadratic')\n",
        "    print(\"Kappa Score: {}\".format(result))\n",
        "    results.append(result)\n",
        "\n",
        "    count += 1\n"
      ]
    },
    {
      "cell_type": "code",
      "execution_count": null,
      "metadata": {
        "id": "Sie2cgLjGu8m",
        "outputId": "cf5a210f-053f-4680-f3f6-f7a84f174048",
        "colab": {
          "base_uri": "https://localhost:8080/"
        }
      },
      "outputs": [
        {
          "output_type": "stream",
          "name": "stdout",
          "text": [
            "Average Kappa score after a 5-fold cross validation:  0.9251\n"
          ]
        }
      ],
      "source": [
        "print(\"Average Kappa score after a 5-fold cross validation: \",np.around(np.array(results).mean(),decimals=4))"
      ]
    },
    {
      "cell_type": "code",
      "execution_count": null,
      "metadata": {
        "id": "s3YRsUlQGu8m",
        "colab": {
          "base_uri": "https://localhost:8080/",
          "height": 533
        },
        "outputId": "b548a0da-b2da-455e-bc99-58bb8ab57af6"
      },
      "outputs": [
        {
          "output_type": "execute_result",
          "data": {
            "image/png": "[encoded data removed]",
            "text/plain": [
              "<IPython.core.display.Image object>"
            ]
          },
          "metadata": {},
          "execution_count": 12
        }
      ],
      "source": [
        "# prompt: a code that creates diagram of LSTM network\n",
        "\n",
        "from keras.utils import plot_model\n",
        "from IPython.display import Image\n",
        "\n",
        "# Assuming 'lstm_model' is your trained LSTM model\n",
        "plot_model(lstm_model, to_file='model.png', show_shapes=True, show_layer_names=True)\n",
        "Image(filename='model.png')\n"
      ]
    }
  ],
  "metadata": {
    "colab": {
      "provenance": [],
      "gpuType": "V28"
    },
    "kernelspec": {
      "display_name": "Python 3",
      "name": "python3"
    },
    "language_info": {
      "codemirror_mode": {
        "name": "ipython",
        "version": 3
      },
      "file_extension": ".py",
      "mimetype": "text/x-python",
      "name": "python",
      "nbconvert_exporter": "python",
      "pygments_lexer": "ipython3",
      "version": "3.7.5"
    },
    "accelerator": "TPU"
  },
  "nbformat": 4,
  "nbformat_minor": 0
}